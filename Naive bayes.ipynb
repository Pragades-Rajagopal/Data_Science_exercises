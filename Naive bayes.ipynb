{
 "cells": [
  {
   "cell_type": "code",
   "execution_count": 2,
   "metadata": {},
   "outputs": [],
   "source": [
    "from sklearn import datasets\n",
    "from sklearn.naive_bayes import GaussianNB\n",
    "from sklearn import metrics"
   ]
  },
  {
   "cell_type": "code",
   "execution_count": 5,
   "metadata": {},
   "outputs": [],
   "source": [
    "dataset = datasets.load_iris()"
   ]
  },
  {
   "cell_type": "code",
   "execution_count": 7,
   "metadata": {},
   "outputs": [
    {
     "output_type": "execute_result",
     "data": {
      "text/plain": "GaussianNB(priors=None, var_smoothing=1e-09)"
     },
     "metadata": {},
     "execution_count": 7
    }
   ],
   "source": [
    "model = GaussianNB()\n",
    "model.fit(dataset.data, dataset.target)"
   ]
  },
  {
   "cell_type": "code",
   "execution_count": 9,
   "metadata": {},
   "outputs": [],
   "source": [
    "expected = dataset.target\n",
    "predicted = model.predict(dataset.data)"
   ]
  },
  {
   "cell_type": "code",
   "execution_count": 12,
   "metadata": {},
   "outputs": [
    {
     "output_type": "execute_result",
     "data": {
      "text/plain": "'              precision    recall  f1-score   support\\n\\n           0       1.00      1.00      1.00        50\\n           1       0.94      0.94      0.94        50\\n           2       0.94      0.94      0.94        50\\n\\n   micro avg       0.96      0.96      0.96       150\\n   macro avg       0.96      0.96      0.96       150\\nweighted avg       0.96      0.96      0.96       150\\n'"
     },
     "metadata": {},
     "execution_count": 12
    }
   ],
   "source": [
    "metrics.classification_report(expected, predicted)"
   ]
  },
  {
   "cell_type": "code",
   "execution_count": 13,
   "metadata": {},
   "outputs": [
    {
     "output_type": "execute_result",
     "data": {
      "text/plain": "array([[50,  0,  0],\n       [ 0, 47,  3],\n       [ 0,  3, 47]], dtype=int64)"
     },
     "metadata": {},
     "execution_count": 13
    }
   ],
   "source": [
    "metrics.confusion_matrix(expected, predicted)"
   ]
  }
 ],
 "metadata": {
  "language_info": {
   "codemirror_mode": {
    "name": "ipython",
    "version": 3
   },
   "file_extension": ".py",
   "mimetype": "text/x-python",
   "name": "python",
   "nbconvert_exporter": "python",
   "pygments_lexer": "ipython3",
   "version": "3.7.4-final"
  },
  "orig_nbformat": 2,
  "kernelspec": {
   "name": "python37432bitc7bfd4f7fe6b4a72ad34cf4e68e47bc5",
   "display_name": "Python 3.7.4 32-bit"
  }
 },
 "nbformat": 4,
 "nbformat_minor": 2
}